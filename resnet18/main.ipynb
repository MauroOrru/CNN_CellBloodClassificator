{
 "cells": [
  {
   "cell_type": "markdown",
   "metadata": {},
   "source": [
    "# Import and setup"
   ]
  },
  {
   "cell_type": "code",
   "execution_count": 9,
   "metadata": {},
   "outputs": [],
   "source": [
    "import os\n",
    "import random\n",
    "import numpy as np\n",
    "import torch\n",
    "\n",
    "import torch.nn as nn\n",
    "import torch.optim as optim\n",
    "from torch.utils.data import DataLoader, Dataset\n",
    "\n",
    "from sklearn.model_selection import StratifiedKFold\n",
    "from torch.utils.data import Subset\n",
    "\n",
    "# Librerie personalizzate\n",
    "from dataset import BloodCellDataset\n",
    "from model import CustomModel\n",
    "from train import train_one_epoch, validate\n",
    "from utils import plot_confusion_matrix, plot_normalized_confusion_matrix\n",
    "\n",
    "# Albumentations\n",
    "import albumentations as A\n",
    "from albumentations.pytorch import ToTensorV2\n",
    "\n",
    "import matplotlib.pyplot as plt"
   ]
  },
  {
   "cell_type": "markdown",
   "metadata": {},
   "source": [
    " # Parameters"
   ]
  },
  {
   "cell_type": "code",
   "execution_count": 11,
   "metadata": {},
   "outputs": [
    {
     "name": "stdout",
     "output_type": "stream",
     "text": [
      "Device: cuda\n"
     ]
    },
    {
     "data": {
      "text/plain": [
       "<torch._C.Generator at 0x2e0097d1570>"
      ]
     },
     "execution_count": 11,
     "metadata": {},
     "output_type": "execute_result"
    }
   ],
   "source": [
    "DATASET_PATH = r\"C:\\Users\\Mauro\\Desktop\\Mauro\\Universita\\AI\\DATASETS\\LEUCEMIA\\PKG-AML-Cytomorphology_LMU\"\n",
    "VALID_FOLDERS = [\"NGS\",\"LYT\",\"MON\",\"MYO\"]\n",
    "IMG_SIZE = 400\n",
    "\n",
    "TEST_RATIO = 0.1  # 10% test esterno\n",
    "N_FOLDS = 5\n",
    "SEED = 42\n",
    "\n",
    "BATCH_SIZE = 32\n",
    "EPOCHS = 20\n",
    "LR = 1e-4\n",
    "MODEL_NAME = \"resnet18\"\n",
    "PRETRAINED = False\n",
    "DEVICE = torch.device(\"cuda\" if torch.cuda.is_available() else \"cpu\")\n",
    "\n",
    "print(\"Device:\", DEVICE)\n",
    "random.seed(SEED)\n",
    "np.random.seed(SEED)\n",
    "torch.manual_seed(SEED)"
   ]
  },
  {
   "cell_type": "markdown",
   "metadata": {},
   "source": [
    "# Dataset Creation"
   ]
  },
  {
   "cell_type": "code",
   "execution_count": 12,
   "metadata": {},
   "outputs": [],
   "source": [
    "full_dataset = BloodCellDataset(\n",
    "    root_dir=DATASET_PATH,\n",
    "    valid_folders=VALID_FOLDERS,\n",
    "    img_size=IMG_SIZE,\n",
    "    transform=None  # None, così tutti i dati sono \"puliti\"\n",
    ")\n",
    "\n",
    "all_labels = np.array(full_dataset.labels)\n",
    "all_indices = np.arange(len(full_dataset))\n"
   ]
  },
  {
   "cell_type": "markdown",
   "metadata": {},
   "source": [
    "# Separazione 10% come final test set"
   ]
  },
  {
   "cell_type": "code",
   "execution_count": 13,
   "metadata": {},
   "outputs": [
    {
     "name": "stdout",
     "output_type": "stream",
     "text": [
      "Test set esterno: 1745 esempi\n",
      "Train+Val set (K-fold): 15733 esempi\n"
     ]
    }
   ],
   "source": [
    "class_to_indices = {}\n",
    "for idx, label in enumerate(all_labels):\n",
    "    class_to_indices.setdefault(label, []).append(idx)\n",
    "\n",
    "test_indices = []\n",
    "trainval_indices = []\n",
    "\n",
    "for label, idx_list in class_to_indices.items():\n",
    "    idx_arr = np.array(idx_list)\n",
    "    np.random.shuffle(idx_arr)\n",
    "    n_test = int(len(idx_arr)*TEST_RATIO)\n",
    "\n",
    "    test_part = idx_arr[:n_test]\n",
    "    train_part = idx_arr[n_test:]\n",
    "\n",
    "    test_indices.extend(test_part)\n",
    "    trainval_indices.extend(train_part)\n",
    "\n",
    "test_indices = np.array(test_indices)\n",
    "trainval_indices = np.array(trainval_indices)\n",
    "\n",
    "print(f\"Test set esterno: {len(test_indices)} esempi\")\n",
    "print(f\"Train+Val set (K-fold): {len(trainval_indices)} esempi\")\n",
    "\n",
    "# Creiamo Subset \"puro\" per test esterno\n",
    "final_test_dataset = Subset(full_dataset, test_indices)"
   ]
  },
  {
   "cell_type": "markdown",
   "metadata": {},
   "source": [
    "# K-FOLD"
   ]
  },
  {
   "cell_type": "code",
   "execution_count": 14,
   "metadata": {},
   "outputs": [],
   "source": [
    "skf = StratifiedKFold(n_splits=N_FOLDS, shuffle=True, random_state=SEED)\n",
    "labels_for_90 = all_labels[trainval_indices]\n",
    "\n",
    "# Data augmentation per train\n",
    "train_transform = A.Compose([\n",
    "    A.HorizontalFlip(p=0.5),\n",
    "    A.VerticalFlip(p=0.5),\n",
    "    A.Rotate(limit=180, p=0.5),\n",
    "    A.RandomBrightnessContrast(p=0.1),\n",
    "    A.Resize(IMG_SIZE,IMG_SIZE),\n",
    "    ToTensorV2()\n",
    "])\n",
    "\n",
    "# Transform di base per val/test\n",
    "val_transform = A.Compose([\n",
    "    A.Resize(IMG_SIZE,IMG_SIZE),\n",
    "    ToTensorV2()\n",
    "])\n",
    "\n",
    "# Per la WeightedRandomSampler, calcoliamo le class weights\n",
    "# 1 / freq_di_classe = peso. (Es. meno frequente = peso maggiore)\n",
    "unique_labels, counts = np.unique(labels_for_90, return_counts=True)\n",
    "class_counts = dict(zip(unique_labels, counts))\n",
    "\n",
    "# Ad es. weight[class] = 1/count\n",
    "max_count = max(class_counts.values())\n",
    "weight_per_class = {}\n",
    "for c, cnt in class_counts.items():\n",
    "    weight_per_class[c] = max_count / cnt  # un modo per \"bilanciare\"\n",
    "\n",
    "def make_sampler(indices_array):\n",
    "    # Ritorna un WeightedRandomSampler per oversampling\n",
    "    # in base a weight_per_class.\n",
    "    sample_weights = []\n",
    "    for idx in indices_array:\n",
    "        label = all_labels[idx]\n",
    "        sample_weights.append(weight_per_class[label])\n",
    "    sampler = torch.utils.data.WeightedRandomSampler(\n",
    "        weights=sample_weights,\n",
    "        num_samples=len(indices_array),  # parità con dimensione set\n",
    "        replacement=True  # sampling con rimpiazzo\n",
    "    )\n",
    "    return sampler\n",
    "\n",
    "# Funzione per creare un dataset con transform\n",
    "class SubsetAlbumentations(Dataset):\n",
    "    def __init__(self, base_dataset, indices, albumentations_transform=None):\n",
    "        self.base_dataset = base_dataset\n",
    "        self.indices = indices\n",
    "        self.transform = albumentations_transform\n",
    "    def __len__(self):\n",
    "        return len(self.indices)\n",
    "    def __getitem__(self, i):\n",
    "        real_idx = self.indices[i]\n",
    "        img, label = self.base_dataset[real_idx]\n",
    "        # Se dataset ritorna un np array HxWxC o un Tensor CxHxW...\n",
    "        # Adattiamo per Albumentations\n",
    "        if isinstance(img, torch.Tensor):\n",
    "            img_np = img.permute(1,2,0).numpy()\n",
    "        else:\n",
    "            img_np = img\n",
    "        if self.transform:\n",
    "            augmented = self.transform(image=img_np)\n",
    "            img = augmented[\"image\"]\n",
    "        return img, label\n",
    "\n",
    "fold_accuracies = []\n",
    "fold_number = 1"
   ]
  },
  {
   "cell_type": "markdown",
   "metadata": {},
   "source": [
    "# K FOLD EXEC"
   ]
  },
  {
   "cell_type": "code",
   "execution_count": 27,
   "metadata": {},
   "outputs": [
    {
     "name": "stdout",
     "output_type": "stream",
     "text": [
      "\n",
      "=== Fold 1/5 ===\n",
      "Train set fold: 12586 | Val set fold: 3147\n",
      "  Epoch 1/20\n"
     ]
    },
    {
     "name": "stderr",
     "output_type": "stream",
     "text": [
      "                                                           \r"
     ]
    },
    {
     "name": "stdout",
     "output_type": "stream",
     "text": [
      "    TrainLoss: 0.8066  Acc: 0.7566 | ValLoss: 0.6764  Acc: 0.7423\n",
      "    ► Salvo best model per fold 1 con val_acc = 0.7423\n",
      "  Epoch 2/20\n"
     ]
    },
    {
     "name": "stderr",
     "output_type": "stream",
     "text": [
      "                                                           \r"
     ]
    },
    {
     "name": "stdout",
     "output_type": "stream",
     "text": [
      "    TrainLoss: 0.3614  Acc: 0.8963 | ValLoss: 0.3702  Acc: 0.8719\n",
      "    ► Salvo best model per fold 1 con val_acc = 0.8719\n",
      "  Epoch 3/20\n"
     ]
    },
    {
     "name": "stderr",
     "output_type": "stream",
     "text": [
      "                                                           \r"
     ]
    },
    {
     "name": "stdout",
     "output_type": "stream",
     "text": [
      "    TrainLoss: 0.2712  Acc: 0.9158 | ValLoss: 0.3745  Acc: 0.8618\n",
      "  Epoch 4/20\n"
     ]
    },
    {
     "name": "stderr",
     "output_type": "stream",
     "text": [
      "                                                           \r"
     ]
    },
    {
     "name": "stdout",
     "output_type": "stream",
     "text": [
      "    TrainLoss: 0.2325  Acc: 0.9266 | ValLoss: 0.1961  Acc: 0.9279\n",
      "    ► Salvo best model per fold 1 con val_acc = 0.9279\n",
      "  Epoch 5/20\n"
     ]
    },
    {
     "name": "stderr",
     "output_type": "stream",
     "text": [
      "                                                           \r"
     ]
    },
    {
     "name": "stdout",
     "output_type": "stream",
     "text": [
      "    TrainLoss: 0.2182  Acc: 0.9283 | ValLoss: 0.1758  Acc: 0.9457\n",
      "    ► Salvo best model per fold 1 con val_acc = 0.9457\n",
      "  Epoch 6/20\n"
     ]
    },
    {
     "name": "stderr",
     "output_type": "stream",
     "text": [
      "                                                           \r"
     ]
    },
    {
     "name": "stdout",
     "output_type": "stream",
     "text": [
      "    TrainLoss: 0.1971  Acc: 0.9382 | ValLoss: 0.2680  Acc: 0.9094\n",
      "  Epoch 7/20\n"
     ]
    },
    {
     "name": "stderr",
     "output_type": "stream",
     "text": [
      "                                                           \r"
     ]
    },
    {
     "name": "stdout",
     "output_type": "stream",
     "text": [
      "    TrainLoss: 0.1881  Acc: 0.9383 | ValLoss: 0.3358  Acc: 0.8929\n",
      "  Epoch 8/20\n"
     ]
    },
    {
     "name": "stderr",
     "output_type": "stream",
     "text": [
      "                                                           \r"
     ]
    },
    {
     "name": "stdout",
     "output_type": "stream",
     "text": [
      "    TrainLoss: 0.1816  Acc: 0.9411 | ValLoss: 0.1804  Acc: 0.9463\n",
      "    ► Salvo best model per fold 1 con val_acc = 0.9463\n",
      "  Epoch 9/20\n"
     ]
    },
    {
     "name": "stderr",
     "output_type": "stream",
     "text": [
      "                                                           \r"
     ]
    },
    {
     "name": "stdout",
     "output_type": "stream",
     "text": [
      "    TrainLoss: 0.1762  Acc: 0.9428 | ValLoss: 0.3876  Acc: 0.8653\n",
      "  Epoch 10/20\n"
     ]
    },
    {
     "name": "stderr",
     "output_type": "stream",
     "text": [
      "                                                           \r"
     ]
    },
    {
     "name": "stdout",
     "output_type": "stream",
     "text": [
      "    TrainLoss: 0.1599  Acc: 0.9484 | ValLoss: 0.1712  Acc: 0.9507\n",
      "    ► Salvo best model per fold 1 con val_acc = 0.9507\n",
      "  Epoch 11/20\n"
     ]
    },
    {
     "name": "stderr",
     "output_type": "stream",
     "text": [
      "                                                           \r"
     ]
    },
    {
     "name": "stdout",
     "output_type": "stream",
     "text": [
      "    TrainLoss: 0.1590  Acc: 0.9507 | ValLoss: 0.1895  Acc: 0.9425\n",
      "  Epoch 12/20\n"
     ]
    },
    {
     "name": "stderr",
     "output_type": "stream",
     "text": [
      "                                                           \r"
     ]
    },
    {
     "name": "stdout",
     "output_type": "stream",
     "text": [
      "    TrainLoss: 0.1600  Acc: 0.9463 | ValLoss: 0.1260  Acc: 0.9635\n",
      "    ► Salvo best model per fold 1 con val_acc = 0.9635\n",
      "  Epoch 13/20\n"
     ]
    },
    {
     "name": "stderr",
     "output_type": "stream",
     "text": [
      "                                                           \r"
     ]
    },
    {
     "name": "stdout",
     "output_type": "stream",
     "text": [
      "    TrainLoss: 0.1630  Acc: 0.9472 | ValLoss: 0.4312  Acc: 0.8646\n",
      "  Epoch 14/20\n"
     ]
    },
    {
     "name": "stderr",
     "output_type": "stream",
     "text": [
      "                                                           \r"
     ]
    },
    {
     "name": "stdout",
     "output_type": "stream",
     "text": [
      "    TrainLoss: 0.1629  Acc: 0.9480 | ValLoss: 0.2435  Acc: 0.9215\n",
      "  Epoch 15/20\n"
     ]
    },
    {
     "name": "stderr",
     "output_type": "stream",
     "text": [
      "                                                           \r"
     ]
    },
    {
     "name": "stdout",
     "output_type": "stream",
     "text": [
      "    TrainLoss: 0.1432  Acc: 0.9528 | ValLoss: 0.1621  Acc: 0.9533\n",
      "  Epoch 16/20\n"
     ]
    },
    {
     "name": "stderr",
     "output_type": "stream",
     "text": [
      "                                                           \r"
     ]
    },
    {
     "name": "stdout",
     "output_type": "stream",
     "text": [
      "    TrainLoss: 0.1480  Acc: 0.9524 | ValLoss: 0.2454  Acc: 0.9209\n",
      "  Epoch 17/20\n"
     ]
    },
    {
     "name": "stderr",
     "output_type": "stream",
     "text": [
      "                                                           \r"
     ]
    },
    {
     "name": "stdout",
     "output_type": "stream",
     "text": [
      "    TrainLoss: 0.1429  Acc: 0.9538 | ValLoss: 0.1518  Acc: 0.9542\n",
      "  Epoch 18/20\n"
     ]
    },
    {
     "name": "stderr",
     "output_type": "stream",
     "text": [
      "                                                           \r"
     ]
    },
    {
     "name": "stdout",
     "output_type": "stream",
     "text": [
      "    TrainLoss: 0.1486  Acc: 0.9530 | ValLoss: 0.3233  Acc: 0.8967\n",
      "  Epoch 19/20\n"
     ]
    },
    {
     "name": "stderr",
     "output_type": "stream",
     "text": [
      "                                                           \r"
     ]
    },
    {
     "name": "stdout",
     "output_type": "stream",
     "text": [
      "    TrainLoss: 0.1432  Acc: 0.9518 | ValLoss: 0.2690  Acc: 0.9187\n",
      "  Epoch 20/20\n"
     ]
    },
    {
     "name": "stderr",
     "output_type": "stream",
     "text": [
      "                                                           \r"
     ]
    },
    {
     "name": "stdout",
     "output_type": "stream",
     "text": [
      "    TrainLoss: 0.1446  Acc: 0.9527 | ValLoss: 0.2146  Acc: 0.9352\n",
      "*** Best Val Acc Fold 1: 0.9635 ***\n",
      "\n",
      "=== Fold 2/5 ===\n",
      "Train set fold: 12586 | Val set fold: 3147\n",
      "  Epoch 1/20\n"
     ]
    },
    {
     "name": "stderr",
     "output_type": "stream",
     "text": [
      "                                                           \r"
     ]
    },
    {
     "name": "stdout",
     "output_type": "stream",
     "text": [
      "    TrainLoss: 0.7948  Acc: 0.7614 | ValLoss: 0.5213  Acc: 0.8201\n",
      "    ► Salvo best model per fold 2 con val_acc = 0.8201\n",
      "  Epoch 2/20\n"
     ]
    },
    {
     "name": "stderr",
     "output_type": "stream",
     "text": [
      "                                                           \r"
     ]
    },
    {
     "name": "stdout",
     "output_type": "stream",
     "text": [
      "    TrainLoss: 0.3737  Acc: 0.8902 | ValLoss: 1.0618  Acc: 0.5952\n",
      "  Epoch 3/20\n"
     ]
    },
    {
     "name": "stderr",
     "output_type": "stream",
     "text": [
      "                                                           \r"
     ]
    },
    {
     "name": "stdout",
     "output_type": "stream",
     "text": [
      "    TrainLoss: 0.2630  Acc: 0.9219 | ValLoss: 0.5814  Acc: 0.7566\n",
      "  Epoch 4/20\n"
     ]
    },
    {
     "name": "stderr",
     "output_type": "stream",
     "text": [
      "                                                           \r"
     ]
    },
    {
     "name": "stdout",
     "output_type": "stream",
     "text": [
      "    TrainLoss: 0.2238  Acc: 0.9292 | ValLoss: 0.3338  Acc: 0.8700\n",
      "    ► Salvo best model per fold 2 con val_acc = 0.8700\n",
      "  Epoch 5/20\n"
     ]
    },
    {
     "name": "stderr",
     "output_type": "stream",
     "text": [
      "                                                           \r"
     ]
    },
    {
     "name": "stdout",
     "output_type": "stream",
     "text": [
      "    TrainLoss: 0.2062  Acc: 0.9336 | ValLoss: 0.2590  Acc: 0.9082\n",
      "    ► Salvo best model per fold 2 con val_acc = 0.9082\n",
      "  Epoch 6/20\n"
     ]
    },
    {
     "name": "stderr",
     "output_type": "stream",
     "text": [
      "                                                           \r"
     ]
    },
    {
     "name": "stdout",
     "output_type": "stream",
     "text": [
      "    TrainLoss: 0.1986  Acc: 0.9353 | ValLoss: 0.1490  Acc: 0.9546\n",
      "    ► Salvo best model per fold 2 con val_acc = 0.9546\n",
      "  Epoch 7/20\n"
     ]
    },
    {
     "name": "stderr",
     "output_type": "stream",
     "text": [
      "                                                           \r"
     ]
    },
    {
     "name": "stdout",
     "output_type": "stream",
     "text": [
      "    TrainLoss: 0.1991  Acc: 0.9368 | ValLoss: 0.2324  Acc: 0.9088\n",
      "  Epoch 8/20\n"
     ]
    },
    {
     "name": "stderr",
     "output_type": "stream",
     "text": [
      "                                                           \r"
     ]
    },
    {
     "name": "stdout",
     "output_type": "stream",
     "text": [
      "    TrainLoss: 0.1842  Acc: 0.9408 | ValLoss: 0.1915  Acc: 0.9339\n",
      "  Epoch 9/20\n"
     ]
    },
    {
     "name": "stderr",
     "output_type": "stream",
     "text": [
      "                                                           \r"
     ]
    },
    {
     "name": "stdout",
     "output_type": "stream",
     "text": [
      "    TrainLoss: 0.1734  Acc: 0.9422 | ValLoss: 0.1654  Acc: 0.9425\n",
      "  Epoch 10/20\n"
     ]
    },
    {
     "name": "stderr",
     "output_type": "stream",
     "text": [
      "                                                           \r"
     ]
    },
    {
     "name": "stdout",
     "output_type": "stream",
     "text": [
      "    TrainLoss: 0.1760  Acc: 0.9448 | ValLoss: 0.2525  Acc: 0.9167\n",
      "  Epoch 11/20\n"
     ]
    },
    {
     "name": "stderr",
     "output_type": "stream",
     "text": [
      "                                                           \r"
     ]
    },
    {
     "name": "stdout",
     "output_type": "stream",
     "text": [
      "    TrainLoss: 0.1616  Acc: 0.9495 | ValLoss: 0.1308  Acc: 0.9603\n",
      "    ► Salvo best model per fold 2 con val_acc = 0.9603\n",
      "  Epoch 12/20\n"
     ]
    },
    {
     "name": "stderr",
     "output_type": "stream",
     "text": [
      "                                                           \r"
     ]
    },
    {
     "name": "stdout",
     "output_type": "stream",
     "text": [
      "    TrainLoss: 0.1702  Acc: 0.9439 | ValLoss: 0.1093  Acc: 0.9641\n",
      "    ► Salvo best model per fold 2 con val_acc = 0.9641\n",
      "  Epoch 13/20\n"
     ]
    },
    {
     "name": "stderr",
     "output_type": "stream",
     "text": [
      "                                                           \r"
     ]
    },
    {
     "name": "stdout",
     "output_type": "stream",
     "text": [
      "    TrainLoss: 0.1534  Acc: 0.9497 | ValLoss: 0.9054  Acc: 0.7528\n",
      "  Epoch 14/20\n"
     ]
    },
    {
     "name": "stderr",
     "output_type": "stream",
     "text": [
      "                                                           \r"
     ]
    },
    {
     "name": "stdout",
     "output_type": "stream",
     "text": [
      "    TrainLoss: 0.1555  Acc: 0.9489 | ValLoss: 0.1421  Acc: 0.9549\n",
      "  Epoch 15/20\n"
     ]
    },
    {
     "name": "stderr",
     "output_type": "stream",
     "text": [
      "                                                           \r"
     ]
    },
    {
     "name": "stdout",
     "output_type": "stream",
     "text": [
      "    TrainLoss: 0.1613  Acc: 0.9495 | ValLoss: 0.1810  Acc: 0.9361\n",
      "  Epoch 16/20\n"
     ]
    },
    {
     "name": "stderr",
     "output_type": "stream",
     "text": [
      "                                                           \r"
     ]
    },
    {
     "name": "stdout",
     "output_type": "stream",
     "text": [
      "    TrainLoss: 0.1462  Acc: 0.9547 | ValLoss: 0.1447  Acc: 0.9517\n",
      "  Epoch 17/20\n"
     ]
    },
    {
     "name": "stderr",
     "output_type": "stream",
     "text": [
      "                                                           \r"
     ]
    },
    {
     "name": "stdout",
     "output_type": "stream",
     "text": [
      "    TrainLoss: 0.1436  Acc: 0.9530 | ValLoss: 0.2164  Acc: 0.9237\n",
      "  Epoch 18/20\n"
     ]
    },
    {
     "name": "stderr",
     "output_type": "stream",
     "text": [
      "                                                           \r"
     ]
    },
    {
     "name": "stdout",
     "output_type": "stream",
     "text": [
      "    TrainLoss: 0.1393  Acc: 0.9549 | ValLoss: 0.1442  Acc: 0.9542\n",
      "  Epoch 19/20\n"
     ]
    },
    {
     "name": "stderr",
     "output_type": "stream",
     "text": [
      "                                                           \r"
     ]
    },
    {
     "name": "stdout",
     "output_type": "stream",
     "text": [
      "    TrainLoss: 0.1265  Acc: 0.9580 | ValLoss: 0.1217  Acc: 0.9660\n",
      "    ► Salvo best model per fold 2 con val_acc = 0.9660\n",
      "  Epoch 20/20\n"
     ]
    },
    {
     "name": "stderr",
     "output_type": "stream",
     "text": [
      "                                                           \r"
     ]
    },
    {
     "name": "stdout",
     "output_type": "stream",
     "text": [
      "    TrainLoss: 0.1327  Acc: 0.9573 | ValLoss: 0.1145  Acc: 0.9641\n",
      "*** Best Val Acc Fold 2: 0.9660 ***\n",
      "\n",
      "=== Fold 3/5 ===\n",
      "Train set fold: 12586 | Val set fold: 3147\n",
      "  Epoch 1/20\n"
     ]
    },
    {
     "name": "stderr",
     "output_type": "stream",
     "text": [
      "                                                           \r"
     ]
    },
    {
     "name": "stdout",
     "output_type": "stream",
     "text": [
      "    TrainLoss: 0.7836  Acc: 0.7696 | ValLoss: 1.3137  Acc: 0.6587\n",
      "    ► Salvo best model per fold 3 con val_acc = 0.6587\n",
      "  Epoch 2/20\n"
     ]
    },
    {
     "name": "stderr",
     "output_type": "stream",
     "text": [
      "                                                           \r"
     ]
    },
    {
     "name": "stdout",
     "output_type": "stream",
     "text": [
      "    TrainLoss: 0.3656  Acc: 0.8943 | ValLoss: 0.5607  Acc: 0.7989\n",
      "    ► Salvo best model per fold 3 con val_acc = 0.7989\n",
      "  Epoch 3/20\n"
     ]
    },
    {
     "name": "stderr",
     "output_type": "stream",
     "text": [
      "                                                           \r"
     ]
    },
    {
     "name": "stdout",
     "output_type": "stream",
     "text": [
      "    TrainLoss: 0.2743  Acc: 0.9147 | ValLoss: 0.3856  Acc: 0.8640\n",
      "    ► Salvo best model per fold 3 con val_acc = 0.8640\n",
      "  Epoch 4/20\n"
     ]
    },
    {
     "name": "stderr",
     "output_type": "stream",
     "text": [
      "                                                           \r"
     ]
    },
    {
     "name": "stdout",
     "output_type": "stream",
     "text": [
      "    TrainLoss: 0.2318  Acc: 0.9282 | ValLoss: 0.3574  Acc: 0.8716\n",
      "    ► Salvo best model per fold 3 con val_acc = 0.8716\n",
      "  Epoch 5/20\n"
     ]
    },
    {
     "name": "stderr",
     "output_type": "stream",
     "text": [
      "                                                           \r"
     ]
    },
    {
     "name": "stdout",
     "output_type": "stream",
     "text": [
      "    TrainLoss: 0.2074  Acc: 0.9341 | ValLoss: 0.7356  Acc: 0.7753\n",
      "  Epoch 6/20\n"
     ]
    },
    {
     "name": "stderr",
     "output_type": "stream",
     "text": [
      "                                                           \r"
     ]
    },
    {
     "name": "stdout",
     "output_type": "stream",
     "text": [
      "    TrainLoss: 0.1993  Acc: 0.9345 | ValLoss: 0.1985  Acc: 0.9396\n",
      "    ► Salvo best model per fold 3 con val_acc = 0.9396\n",
      "  Epoch 7/20\n"
     ]
    },
    {
     "name": "stderr",
     "output_type": "stream",
     "text": [
      "                                                           \r"
     ]
    },
    {
     "name": "stdout",
     "output_type": "stream",
     "text": [
      "    TrainLoss: 0.1900  Acc: 0.9345 | ValLoss: 0.1435  Acc: 0.9546\n",
      "    ► Salvo best model per fold 3 con val_acc = 0.9546\n",
      "  Epoch 8/20\n"
     ]
    },
    {
     "name": "stderr",
     "output_type": "stream",
     "text": [
      "                                                           \r"
     ]
    },
    {
     "name": "stdout",
     "output_type": "stream",
     "text": [
      "    TrainLoss: 0.1856  Acc: 0.9393 | ValLoss: 0.1725  Acc: 0.9460\n",
      "  Epoch 9/20\n"
     ]
    },
    {
     "name": "stderr",
     "output_type": "stream",
     "text": [
      "                                                           \r"
     ]
    },
    {
     "name": "stdout",
     "output_type": "stream",
     "text": [
      "    TrainLoss: 0.1772  Acc: 0.9429 | ValLoss: 0.1247  Acc: 0.9644\n",
      "    ► Salvo best model per fold 3 con val_acc = 0.9644\n",
      "  Epoch 10/20\n"
     ]
    },
    {
     "name": "stderr",
     "output_type": "stream",
     "text": [
      "                                                           \r"
     ]
    },
    {
     "name": "stdout",
     "output_type": "stream",
     "text": [
      "    TrainLoss: 0.1750  Acc: 0.9445 | ValLoss: 0.1944  Acc: 0.9371\n",
      "  Epoch 11/20\n"
     ]
    },
    {
     "name": "stderr",
     "output_type": "stream",
     "text": [
      "                                                           \r"
     ]
    },
    {
     "name": "stdout",
     "output_type": "stream",
     "text": [
      "    TrainLoss: 0.1741  Acc: 0.9436 | ValLoss: 1.8890  Acc: 0.4531\n",
      "  Epoch 12/20\n"
     ]
    },
    {
     "name": "stderr",
     "output_type": "stream",
     "text": [
      "                                                           \r"
     ]
    },
    {
     "name": "stdout",
     "output_type": "stream",
     "text": [
      "    TrainLoss: 0.1676  Acc: 0.9439 | ValLoss: 0.2639  Acc: 0.9164\n",
      "  Epoch 13/20\n"
     ]
    },
    {
     "name": "stderr",
     "output_type": "stream",
     "text": [
      "                                                           \r"
     ]
    },
    {
     "name": "stdout",
     "output_type": "stream",
     "text": [
      "    TrainLoss: 0.1564  Acc: 0.9474 | ValLoss: 0.1450  Acc: 0.9571\n",
      "  Epoch 14/20\n"
     ]
    },
    {
     "name": "stderr",
     "output_type": "stream",
     "text": [
      "                                                           \r"
     ]
    },
    {
     "name": "stdout",
     "output_type": "stream",
     "text": [
      "    TrainLoss: 0.1578  Acc: 0.9495 | ValLoss: 0.1474  Acc: 0.9507\n",
      "  Epoch 15/20\n"
     ]
    },
    {
     "name": "stderr",
     "output_type": "stream",
     "text": [
      "                                                           \r"
     ]
    },
    {
     "name": "stdout",
     "output_type": "stream",
     "text": [
      "    TrainLoss: 0.1542  Acc: 0.9519 | ValLoss: 0.1396  Acc: 0.9504\n",
      "  Epoch 16/20\n"
     ]
    },
    {
     "name": "stderr",
     "output_type": "stream",
     "text": [
      "                                                           \r"
     ]
    },
    {
     "name": "stdout",
     "output_type": "stream",
     "text": [
      "    TrainLoss: 0.1511  Acc: 0.9502 | ValLoss: 0.1249  Acc: 0.9641\n",
      "  Epoch 17/20\n"
     ]
    },
    {
     "name": "stderr",
     "output_type": "stream",
     "text": [
      "                                                           \r"
     ]
    },
    {
     "name": "stdout",
     "output_type": "stream",
     "text": [
      "    TrainLoss: 0.1471  Acc: 0.9525 | ValLoss: 0.3388  Acc: 0.8878\n",
      "  Epoch 18/20\n"
     ]
    },
    {
     "name": "stderr",
     "output_type": "stream",
     "text": [
      "                                                           \r"
     ]
    },
    {
     "name": "stdout",
     "output_type": "stream",
     "text": [
      "    TrainLoss: 0.1489  Acc: 0.9507 | ValLoss: 0.2259  Acc: 0.9310\n",
      "  Epoch 19/20\n"
     ]
    },
    {
     "name": "stderr",
     "output_type": "stream",
     "text": [
      "                                                           \r"
     ]
    },
    {
     "name": "stdout",
     "output_type": "stream",
     "text": [
      "    TrainLoss: 0.1391  Acc: 0.9550 | ValLoss: 0.1347  Acc: 0.9600\n",
      "  Epoch 20/20\n"
     ]
    },
    {
     "name": "stderr",
     "output_type": "stream",
     "text": [
      "                                                           \r"
     ]
    },
    {
     "name": "stdout",
     "output_type": "stream",
     "text": [
      "    TrainLoss: 0.1414  Acc: 0.9547 | ValLoss: 0.1102  Acc: 0.9692\n",
      "    ► Salvo best model per fold 3 con val_acc = 0.9692\n",
      "*** Best Val Acc Fold 3: 0.9692 ***\n",
      "\n",
      "=== Fold 4/5 ===\n",
      "Train set fold: 12587 | Val set fold: 3146\n",
      "  Epoch 1/20\n"
     ]
    },
    {
     "name": "stderr",
     "output_type": "stream",
     "text": [
      "                                                           \r"
     ]
    },
    {
     "name": "stdout",
     "output_type": "stream",
     "text": [
      "    TrainLoss: 0.7998  Acc: 0.7693 | ValLoss: 0.5537  Acc: 0.8179\n",
      "    ► Salvo best model per fold 4 con val_acc = 0.8179\n",
      "  Epoch 2/20\n"
     ]
    },
    {
     "name": "stderr",
     "output_type": "stream",
     "text": [
      "                                                           \r"
     ]
    },
    {
     "name": "stdout",
     "output_type": "stream",
     "text": [
      "    TrainLoss: 0.3771  Acc: 0.8897 | ValLoss: 0.2756  Acc: 0.9177\n",
      "    ► Salvo best model per fold 4 con val_acc = 0.9177\n",
      "  Epoch 3/20\n"
     ]
    },
    {
     "name": "stderr",
     "output_type": "stream",
     "text": [
      "                                                           \r"
     ]
    },
    {
     "name": "stdout",
     "output_type": "stream",
     "text": [
      "    TrainLoss: 0.2671  Acc: 0.9204 | ValLoss: 0.2607  Acc: 0.9123\n",
      "  Epoch 4/20\n"
     ]
    },
    {
     "name": "stderr",
     "output_type": "stream",
     "text": [
      "                                                           \r"
     ]
    },
    {
     "name": "stdout",
     "output_type": "stream",
     "text": [
      "    TrainLoss: 0.2242  Acc: 0.9271 | ValLoss: 0.3496  Acc: 0.8675\n",
      "  Epoch 5/20\n"
     ]
    },
    {
     "name": "stderr",
     "output_type": "stream",
     "text": [
      "                                                           \r"
     ]
    },
    {
     "name": "stdout",
     "output_type": "stream",
     "text": [
      "    TrainLoss: 0.2044  Acc: 0.9350 | ValLoss: 0.2144  Acc: 0.9234\n",
      "    ► Salvo best model per fold 4 con val_acc = 0.9234\n",
      "  Epoch 6/20\n"
     ]
    },
    {
     "name": "stderr",
     "output_type": "stream",
     "text": [
      "                                                           \r"
     ]
    },
    {
     "name": "stdout",
     "output_type": "stream",
     "text": [
      "    TrainLoss: 0.2015  Acc: 0.9378 | ValLoss: 0.7802  Acc: 0.7362\n",
      "  Epoch 7/20\n"
     ]
    },
    {
     "name": "stderr",
     "output_type": "stream",
     "text": [
      "                                                           \r"
     ]
    },
    {
     "name": "stdout",
     "output_type": "stream",
     "text": [
      "    TrainLoss: 0.1757  Acc: 0.9441 | ValLoss: 0.1198  Acc: 0.9647\n",
      "    ► Salvo best model per fold 4 con val_acc = 0.9647\n",
      "  Epoch 8/20\n"
     ]
    },
    {
     "name": "stderr",
     "output_type": "stream",
     "text": [
      "                                                           \r"
     ]
    },
    {
     "name": "stdout",
     "output_type": "stream",
     "text": [
      "    TrainLoss: 0.1654  Acc: 0.9483 | ValLoss: 0.1246  Acc: 0.9596\n",
      "  Epoch 9/20\n"
     ]
    },
    {
     "name": "stderr",
     "output_type": "stream",
     "text": [
      "                                                           \r"
     ]
    },
    {
     "name": "stdout",
     "output_type": "stream",
     "text": [
      "    TrainLoss: 0.1742  Acc: 0.9435 | ValLoss: 0.2413  Acc: 0.9209\n",
      "  Epoch 10/20\n"
     ]
    },
    {
     "name": "stderr",
     "output_type": "stream",
     "text": [
      "                                                           \r"
     ]
    },
    {
     "name": "stdout",
     "output_type": "stream",
     "text": [
      "    TrainLoss: 0.1691  Acc: 0.9472 | ValLoss: 0.1299  Acc: 0.9596\n",
      "  Epoch 11/20\n"
     ]
    },
    {
     "name": "stderr",
     "output_type": "stream",
     "text": [
      "                                                           \r"
     ]
    },
    {
     "name": "stdout",
     "output_type": "stream",
     "text": [
      "    TrainLoss: 0.1621  Acc: 0.9476 | ValLoss: 0.1238  Acc: 0.9631\n",
      "  Epoch 12/20\n"
     ]
    },
    {
     "name": "stderr",
     "output_type": "stream",
     "text": [
      "                                                           \r"
     ]
    },
    {
     "name": "stdout",
     "output_type": "stream",
     "text": [
      "    TrainLoss: 0.1574  Acc: 0.9510 | ValLoss: 0.1793  Acc: 0.9390\n",
      "  Epoch 13/20\n"
     ]
    },
    {
     "name": "stderr",
     "output_type": "stream",
     "text": [
      "                                                           \r"
     ]
    },
    {
     "name": "stdout",
     "output_type": "stream",
     "text": [
      "    TrainLoss: 0.1610  Acc: 0.9499 | ValLoss: 0.1169  Acc: 0.9590\n",
      "  Epoch 14/20\n"
     ]
    },
    {
     "name": "stderr",
     "output_type": "stream",
     "text": [
      "                                                           \r"
     ]
    },
    {
     "name": "stdout",
     "output_type": "stream",
     "text": [
      "    TrainLoss: 0.1489  Acc: 0.9526 | ValLoss: 3.5535  Acc: 0.3957\n",
      "  Epoch 15/20\n"
     ]
    },
    {
     "name": "stderr",
     "output_type": "stream",
     "text": [
      "                                                           \r"
     ]
    },
    {
     "name": "stdout",
     "output_type": "stream",
     "text": [
      "    TrainLoss: 0.1456  Acc: 0.9540 | ValLoss: 0.1149  Acc: 0.9647\n",
      "  Epoch 16/20\n"
     ]
    },
    {
     "name": "stderr",
     "output_type": "stream",
     "text": [
      "                                                           \r"
     ]
    },
    {
     "name": "stdout",
     "output_type": "stream",
     "text": [
      "    TrainLoss: 0.1480  Acc: 0.9535 | ValLoss: 0.1376  Acc: 0.9568\n",
      "  Epoch 17/20\n"
     ]
    },
    {
     "name": "stderr",
     "output_type": "stream",
     "text": [
      "                                                           \r"
     ]
    },
    {
     "name": "stdout",
     "output_type": "stream",
     "text": [
      "    TrainLoss: 0.1535  Acc: 0.9492 | ValLoss: 0.1156  Acc: 0.9596\n",
      "  Epoch 18/20\n"
     ]
    },
    {
     "name": "stderr",
     "output_type": "stream",
     "text": [
      "                                                           \r"
     ]
    },
    {
     "name": "stdout",
     "output_type": "stream",
     "text": [
      "    TrainLoss: 0.1408  Acc: 0.9544 | ValLoss: 0.1081  Acc: 0.9660\n",
      "    ► Salvo best model per fold 4 con val_acc = 0.9660\n",
      "  Epoch 19/20\n"
     ]
    },
    {
     "name": "stderr",
     "output_type": "stream",
     "text": [
      "                                                           \r"
     ]
    },
    {
     "name": "stdout",
     "output_type": "stream",
     "text": [
      "    TrainLoss: 0.1447  Acc: 0.9538 | ValLoss: 0.1324  Acc: 0.9577\n",
      "  Epoch 20/20\n"
     ]
    },
    {
     "name": "stderr",
     "output_type": "stream",
     "text": [
      "                                                           \r"
     ]
    },
    {
     "name": "stdout",
     "output_type": "stream",
     "text": [
      "    TrainLoss: 0.1405  Acc: 0.9546 | ValLoss: 0.4500  Acc: 0.8462\n",
      "*** Best Val Acc Fold 4: 0.9660 ***\n",
      "\n",
      "=== Fold 5/5 ===\n",
      "Train set fold: 12587 | Val set fold: 3146\n",
      "  Epoch 1/20\n"
     ]
    },
    {
     "name": "stderr",
     "output_type": "stream",
     "text": [
      "                                                           \r"
     ]
    },
    {
     "name": "stdout",
     "output_type": "stream",
     "text": [
      "    TrainLoss: 0.7879  Acc: 0.7632 | ValLoss: 0.4734  Acc: 0.8118\n",
      "    ► Salvo best model per fold 5 con val_acc = 0.8118\n",
      "  Epoch 2/20\n"
     ]
    },
    {
     "name": "stderr",
     "output_type": "stream",
     "text": [
      "                                                           \r"
     ]
    },
    {
     "name": "stdout",
     "output_type": "stream",
     "text": [
      "    TrainLoss: 0.3659  Acc: 0.8943 | ValLoss: 0.2921  Acc: 0.9097\n",
      "    ► Salvo best model per fold 5 con val_acc = 0.9097\n",
      "  Epoch 3/20\n"
     ]
    },
    {
     "name": "stderr",
     "output_type": "stream",
     "text": [
      "                                                           \r"
     ]
    },
    {
     "name": "stdout",
     "output_type": "stream",
     "text": [
      "    TrainLoss: 0.2754  Acc: 0.9194 | ValLoss: 0.1682  Acc: 0.9476\n",
      "    ► Salvo best model per fold 5 con val_acc = 0.9476\n",
      "  Epoch 4/20\n"
     ]
    },
    {
     "name": "stderr",
     "output_type": "stream",
     "text": [
      "                                                           \r"
     ]
    },
    {
     "name": "stdout",
     "output_type": "stream",
     "text": [
      "    TrainLoss: 0.2262  Acc: 0.9302 | ValLoss: 0.2397  Acc: 0.9323\n",
      "  Epoch 5/20\n"
     ]
    },
    {
     "name": "stderr",
     "output_type": "stream",
     "text": [
      "                                                           \r"
     ]
    },
    {
     "name": "stdout",
     "output_type": "stream",
     "text": [
      "    TrainLoss: 0.2089  Acc: 0.9332 | ValLoss: 0.2245  Acc: 0.9132\n",
      "  Epoch 6/20\n"
     ]
    },
    {
     "name": "stderr",
     "output_type": "stream",
     "text": [
      "                                                           \r"
     ]
    },
    {
     "name": "stdout",
     "output_type": "stream",
     "text": [
      "    TrainLoss: 0.1915  Acc: 0.9367 | ValLoss: 0.2039  Acc: 0.9390\n",
      "  Epoch 7/20\n"
     ]
    },
    {
     "name": "stderr",
     "output_type": "stream",
     "text": [
      "                                                           \r"
     ]
    },
    {
     "name": "stdout",
     "output_type": "stream",
     "text": [
      "    TrainLoss: 0.1967  Acc: 0.9376 | ValLoss: 0.2573  Acc: 0.9110\n",
      "  Epoch 8/20\n"
     ]
    },
    {
     "name": "stderr",
     "output_type": "stream",
     "text": [
      "                                                           \r"
     ]
    },
    {
     "name": "stdout",
     "output_type": "stream",
     "text": [
      "    TrainLoss: 0.1756  Acc: 0.9422 | ValLoss: 0.5081  Acc: 0.8318\n",
      "  Epoch 9/20\n"
     ]
    },
    {
     "name": "stderr",
     "output_type": "stream",
     "text": [
      "                                                           \r"
     ]
    },
    {
     "name": "stdout",
     "output_type": "stream",
     "text": [
      "    TrainLoss: 0.1842  Acc: 0.9403 | ValLoss: 0.1159  Acc: 0.9666\n",
      "    ► Salvo best model per fold 5 con val_acc = 0.9666\n",
      "  Epoch 10/20\n"
     ]
    },
    {
     "name": "stderr",
     "output_type": "stream",
     "text": [
      "                                                           \r"
     ]
    },
    {
     "name": "stdout",
     "output_type": "stream",
     "text": [
      "    TrainLoss: 0.1779  Acc: 0.9418 | ValLoss: 0.2794  Acc: 0.9072\n",
      "  Epoch 11/20\n"
     ]
    },
    {
     "name": "stderr",
     "output_type": "stream",
     "text": [
      "                                                           \r"
     ]
    },
    {
     "name": "stdout",
     "output_type": "stream",
     "text": [
      "    TrainLoss: 0.1653  Acc: 0.9461 | ValLoss: 0.3758  Acc: 0.8713\n",
      "  Epoch 12/20\n"
     ]
    },
    {
     "name": "stderr",
     "output_type": "stream",
     "text": [
      "                                                           \r"
     ]
    },
    {
     "name": "stdout",
     "output_type": "stream",
     "text": [
      "    TrainLoss: 0.1698  Acc: 0.9460 | ValLoss: 0.1541  Acc: 0.9434\n",
      "  Epoch 13/20\n"
     ]
    },
    {
     "name": "stderr",
     "output_type": "stream",
     "text": [
      "                                                           \r"
     ]
    },
    {
     "name": "stdout",
     "output_type": "stream",
     "text": [
      "    TrainLoss: 0.1554  Acc: 0.9482 | ValLoss: 0.1515  Acc: 0.9495\n",
      "  Epoch 14/20\n"
     ]
    },
    {
     "name": "stderr",
     "output_type": "stream",
     "text": [
      "                                                           \r"
     ]
    },
    {
     "name": "stdout",
     "output_type": "stream",
     "text": [
      "    TrainLoss: 0.1640  Acc: 0.9457 | ValLoss: 0.1245  Acc: 0.9619\n",
      "  Epoch 15/20\n"
     ]
    },
    {
     "name": "stderr",
     "output_type": "stream",
     "text": [
      "                                                           \r"
     ]
    },
    {
     "name": "stdout",
     "output_type": "stream",
     "text": [
      "    TrainLoss: 0.1578  Acc: 0.9499 | ValLoss: 0.2178  Acc: 0.9221\n",
      "  Epoch 16/20\n"
     ]
    },
    {
     "name": "stderr",
     "output_type": "stream",
     "text": [
      "                                                           \r"
     ]
    },
    {
     "name": "stdout",
     "output_type": "stream",
     "text": [
      "    TrainLoss: 0.1497  Acc: 0.9479 | ValLoss: 0.1773  Acc: 0.9383\n",
      "  Epoch 17/20\n"
     ]
    },
    {
     "name": "stderr",
     "output_type": "stream",
     "text": [
      "                                                           \r"
     ]
    },
    {
     "name": "stdout",
     "output_type": "stream",
     "text": [
      "    TrainLoss: 0.1435  Acc: 0.9540 | ValLoss: 0.1748  Acc: 0.9472\n",
      "  Epoch 18/20\n"
     ]
    },
    {
     "name": "stderr",
     "output_type": "stream",
     "text": [
      "                                                           \r"
     ]
    },
    {
     "name": "stdout",
     "output_type": "stream",
     "text": [
      "    TrainLoss: 0.1394  Acc: 0.9536 | ValLoss: 0.1143  Acc: 0.9666\n",
      "  Epoch 19/20\n"
     ]
    },
    {
     "name": "stderr",
     "output_type": "stream",
     "text": [
      "                                                           \r"
     ]
    },
    {
     "name": "stdout",
     "output_type": "stream",
     "text": [
      "    TrainLoss: 0.1326  Acc: 0.9549 | ValLoss: 0.2012  Acc: 0.9358\n",
      "  Epoch 20/20\n"
     ]
    },
    {
     "name": "stderr",
     "output_type": "stream",
     "text": [
      "                                                           "
     ]
    },
    {
     "name": "stdout",
     "output_type": "stream",
     "text": [
      "    TrainLoss: 0.1321  Acc: 0.9568 | ValLoss: 0.1720  Acc: 0.9520\n",
      "*** Best Val Acc Fold 5: 0.9666 ***\n"
     ]
    },
    {
     "name": "stderr",
     "output_type": "stream",
     "text": [
      "\r"
     ]
    }
   ],
   "source": [
    "for train_idx, val_idx in skf.split(trainval_indices, labels_for_90):\n",
    "    print(f\"\\n=== Fold {fold_number}/{N_FOLDS} ===\")\n",
    "    real_train_indices = trainval_indices[train_idx]\n",
    "    real_val_indices   = trainval_indices[val_idx]\n",
    "\n",
    "    print(\"Train set fold:\", len(real_train_indices), \"| Val set fold:\", len(real_val_indices))\n",
    "\n",
    "    ds_train = SubsetAlbumentations(full_dataset, real_train_indices, albumentations_transform=train_transform)\n",
    "    ds_val   = SubsetAlbumentations(full_dataset, real_val_indices, albumentations_transform=val_transform)\n",
    "\n",
    "    sampler_train = make_sampler(real_train_indices)\n",
    "    dl_train = DataLoader(ds_train, batch_size=BATCH_SIZE, sampler=sampler_train, num_workers=0)\n",
    "    dl_val   = DataLoader(ds_val, batch_size=BATCH_SIZE, shuffle=False, num_workers=0)\n",
    "\n",
    "    model = CustomModel(\n",
    "        num_classes=full_dataset.num_classes,\n",
    "        model_name=MODEL_NAME,\n",
    "        pretrained=PRETRAINED\n",
    "    ).to(DEVICE)\n",
    "\n",
    "    criterion = nn.CrossEntropyLoss()\n",
    "    optimizer = optim.Adam(model.parameters(), lr=LR)\n",
    "\n",
    "    best_val_acc = 0.0\n",
    "\n",
    "    for epoch in range(EPOCHS):\n",
    "        print(f\"  Epoch {epoch+1}/{EPOCHS}\")\n",
    "        train_loss, train_acc = train_one_epoch(model, dl_train, criterion, optimizer, DEVICE)\n",
    "        val_loss, val_acc, precision, recall, f1, preds, labels = validate(model, dl_val, criterion, DEVICE)\n",
    "\n",
    "        print(f\"    TrainLoss: {train_loss:.4f}  Acc: {train_acc:.4f}\"\n",
    "              f\" | ValLoss: {val_loss:.4f}  Acc: {val_acc:.4f}\")\n",
    "\n",
    "        # --- SALVATAGGIO DEL BEST MODEL ---\n",
    "        if val_acc > best_val_acc:\n",
    "            best_val_acc = val_acc\n",
    "            torch.save(model.state_dict(), f\"{MODEL_NAME}_best_fold{fold_number}.pth\")\n",
    "            print(f\"    ► Salvo best model per fold {fold_number} con val_acc = {best_val_acc:.4f}\")\n",
    "\n",
    "    fold_accuracies.append(best_val_acc)\n",
    "    print(f\"*** Best Val Acc Fold {fold_number}: {best_val_acc:.4f} ***\")\n",
    "\n",
    "    fold_number += 1\n"
   ]
  },
  {
   "cell_type": "markdown",
   "metadata": {},
   "source": [
    "# Risultati k-cross"
   ]
  },
  {
   "cell_type": "code",
   "execution_count": 7,
   "metadata": {},
   "outputs": [
    {
     "name": "stdout",
     "output_type": "stream",
     "text": [
      "\n",
      "RISULTATI CROSS VALIDATION: acc media nan +/- nan\n"
     ]
    },
    {
     "name": "stderr",
     "output_type": "stream",
     "text": [
      "c:\\Users\\Mauro\\anaconda3\\envs\\my_ai_env\\lib\\site-packages\\numpy\\_core\\fromnumeric.py:3904: RuntimeWarning: Mean of empty slice.\n",
      "  return _methods._mean(a, axis=axis, dtype=dtype,\n",
      "c:\\Users\\Mauro\\anaconda3\\envs\\my_ai_env\\lib\\site-packages\\numpy\\_core\\_methods.py:147: RuntimeWarning: invalid value encountered in scalar divide\n",
      "  ret = ret.dtype.type(ret / rcount)\n",
      "c:\\Users\\Mauro\\anaconda3\\envs\\my_ai_env\\lib\\site-packages\\numpy\\_core\\_methods.py:227: RuntimeWarning: Degrees of freedom <= 0 for slice\n",
      "  ret = _var(a, axis=axis, dtype=dtype, out=out, ddof=ddof,\n",
      "c:\\Users\\Mauro\\anaconda3\\envs\\my_ai_env\\lib\\site-packages\\numpy\\_core\\_methods.py:184: RuntimeWarning: invalid value encountered in divide\n",
      "  arrmean = um.true_divide(arrmean, div, out=arrmean,\n",
      "c:\\Users\\Mauro\\anaconda3\\envs\\my_ai_env\\lib\\site-packages\\numpy\\_core\\_methods.py:219: RuntimeWarning: invalid value encountered in scalar divide\n",
      "  ret = ret.dtype.type(ret / rcount)\n"
     ]
    }
   ],
   "source": [
    "mean_acc = np.mean(fold_accuracies)\n",
    "std_acc = np.std(fold_accuracies)\n",
    "print(f\"\\nRISULTATI CROSS VALIDATION: acc media {mean_acc:.4f} +/- {std_acc:.4f}\")"
   ]
  },
  {
   "cell_type": "markdown",
   "metadata": {},
   "source": [
    "# Training su tutto il 90% e test"
   ]
  },
  {
   "cell_type": "code",
   "execution_count": 15,
   "metadata": {},
   "outputs": [],
   "source": [
    "ds_train_90 = SubsetAlbumentations(full_dataset, trainval_indices, albumentations_transform=train_transform)\n",
    "sampler_90  = make_sampler(trainval_indices)\n",
    "dl_train_90 = DataLoader(ds_train_90, batch_size=BATCH_SIZE, sampler=sampler_90, num_workers=0)\n",
    "\n",
    "ds_test = SubsetAlbumentations(full_dataset, test_indices, albumentations_transform=val_transform)\n",
    "dl_test = DataLoader(ds_test, batch_size=BATCH_SIZE, shuffle=False)\n",
    "\n",
    "final_model = CustomModel(num_classes=full_dataset.num_classes, model_name=MODEL_NAME, pretrained=PRETRAINED).to(DEVICE)\n",
    "criterion = nn.CrossEntropyLoss()\n",
    "optimizer = optim.Adam(final_model.parameters(), lr=LR)"
   ]
  },
  {
   "cell_type": "code",
   "execution_count": null,
   "metadata": {},
   "outputs": [],
   "source": [
    "print(\"\\n=== TRAINING FINALE SU TUTTO IL 90% ===\")\n",
    "EPOCHS = 20\n",
    "for epoch in range(EPOCHS):\n",
    "    train_loss, train_acc = train_one_epoch(final_model, dl_train_90, criterion, optimizer, DEVICE)\n",
    "    print(f\"  [FinalTrain] E{epoch+1}/{EPOCHS}  Loss {train_loss:.4f} Acc {train_acc:.4f}\")\n",
    "\n",
    "torch.save(final_model.state_dict(), f\"{MODEL_NAME}_final_90perc.pth\")\n",
    "print(\"► Salvato il modello addestrato su tutto il 90%.\")"
   ]
  },
  {
   "cell_type": "markdown",
   "metadata": {},
   "source": [
    "# Valutazione"
   ]
  },
  {
   "cell_type": "code",
   "execution_count": null,
   "metadata": {},
   "outputs": [],
   "source": [
    "test_loss, test_acc, p, r, f1, preds, labels = validate(final_model, dl_test, criterion, DEVICE)\n",
    "print(\"\\n=== TEST FINALE (10%) ===\")\n",
    "print(f\"Test Loss {test_loss:.4f}, Test Acc {test_acc:.4f}\")\n",
    "print(f\"Precision {p:.2f}, Recall {r:.2f}, F1 {f1:.2f}\")\n",
    "\n",
    "plot_confusion_matrix(labels, preds, full_dataset.classes)\n",
    "plot_normalized_confusion_matrix(labels, preds, full_dataset.classes)"
   ]
  },
  {
   "cell_type": "code",
   "execution_count": 19,
   "metadata": {},
   "outputs": [
    {
     "name": "stderr",
     "output_type": "stream",
     "text": [
      "                                                           \r"
     ]
    },
    {
     "name": "stdout",
     "output_type": "stream",
     "text": [
      "=== EVALUATION DEL MODELLO CARICATO ===\n",
      "Test Loss 0.0939, Test Acc 0.9679\n",
      "Precision 0.97, Recall 0.97, F1 0.97\n"
     ]
    },
    {
     "data": {
      "image/png": "[encoded data removed]",
      "text/plain": [
       "<Figure size 800x600 with 2 Axes>"
      ]
     },
     "metadata": {},
     "output_type": "display_data"
    },
    {
     "data": {
      "image/png": "[encoded data removed]",
      "text/plain": [
       "<Figure size 800x600 with 2 Axes>"
      ]
     },
     "metadata": {},
     "output_type": "display_data"
    }
   ],
   "source": [
    "# 1) Crea un’istanza del modello, identico a quello usato in training\n",
    "loaded_model = CustomModel(\n",
    "    num_classes=full_dataset.num_classes,\n",
    "    model_name=\"resnet18\", \n",
    "    pretrained=False\n",
    ").to(DEVICE)\n",
    "\n",
    "# 2) Carica i pesi salvati\n",
    "loaded_model.load_state_dict(torch.load(\"resnet18_best_fold4.pth\"))\n",
    "\n",
    "# 3) Metti il modello in eval mode\n",
    "loaded_model.eval()\n",
    "\n",
    "# 4) Valuta sul test set\n",
    "test_loss, test_acc, p, r, f1, preds, labels = validate(\n",
    "    loaded_model, \n",
    "    dl_test,      # il DataLoader del test\n",
    "    criterion,    # ad esempio nn.CrossEntropyLoss()\n",
    "    DEVICE\n",
    ")\n",
    "\n",
    "print(\"=== EVALUATION DEL MODELLO CARICATO ===\")\n",
    "print(f\"Test Loss {test_loss:.4f}, Test Acc {test_acc:.4f}\")\n",
    "print(f\"Precision {p:.2f}, Recall {r:.2f}, F1 {f1:.2f}\")\n",
    "\n",
    "plot_confusion_matrix(labels, preds, full_dataset.classes)\n",
    "plot_normalized_confusion_matrix(labels, preds, full_dataset.classes)\n"
   ]
  },
  {
   "cell_type": "code",
   "execution_count": null,
   "metadata": {},
   "outputs": [],
   "source": []
  },
  {
   "cell_type": "code",
   "execution_count": 22,
   "metadata": {},
   "outputs": [
    {
     "name": "stderr",
     "output_type": "stream",
     "text": [
      "                                                           \r"
     ]
    },
    {
     "name": "stdout",
     "output_type": "stream",
     "text": [
      "=== EVALUATION DEL MODELLO CARICATO ===\n",
      "Test Loss 0.0932, Test Acc 0.9713\n",
      "Precision 0.97, Recall 0.97, F1 0.97\n"
     ]
    },
    {
     "data": {
      "image/png": "[encoded data removed]",
      "text/plain": [
       "<Figure size 800x600 with 2 Axes>"
      ]
     },
     "metadata": {},
     "output_type": "display_data"
    },
    {
     "data": {
      "image/png": "[encoded data removed]",
      "text/plain": [
       "<Figure size 800x600 with 2 Axes>"
      ]
     },
     "metadata": {},
     "output_type": "display_data"
    }
   ],
   "source": [
    "# 1) Crea un’istanza del modello, identico a quello usato in training\n",
    "loaded_model = CustomModel(\n",
    "    num_classes=full_dataset.num_classes,\n",
    "    model_name=\"resnet18\", \n",
    "    pretrained=False\n",
    ").to(DEVICE)\n",
    "\n",
    "# 2) Carica i pesi salvati\n",
    "loaded_model.load_state_dict(torch.load(\"resnet18_best_fold1.pth\"))\n",
    "\n",
    "# 3) Metti il modello in eval mode\n",
    "loaded_model.eval()\n",
    "\n",
    "# 4) Valuta sul test set\n",
    "test_loss, test_acc, p, r, f1, preds, labels = validate(\n",
    "    loaded_model, \n",
    "    dl_test,      # il DataLoader del test\n",
    "    criterion,    # ad esempio nn.CrossEntropyLoss()\n",
    "    DEVICE\n",
    ")\n",
    "\n",
    "print(\"=== EVALUATION DEL MODELLO CARICATO ===\")\n",
    "print(f\"Test Loss {test_loss:.4f}, Test Acc {test_acc:.4f}\")\n",
    "print(f\"Precision {p:.2f}, Recall {r:.2f}, F1 {f1:.2f}\")\n",
    "\n",
    "plot_confusion_matrix(labels, preds, full_dataset.classes)\n",
    "plot_normalized_confusion_matrix(labels, preds, full_dataset.classes)\n"
   ]
  }
 ],
 "metadata": {
  "kernelspec": {
   "display_name": "my_ai_env",
   "language": "python",
   "name": "python3"
  },
  "language_info": {
   "codemirror_mode": {
    "name": "ipython",
    "version": 3
   },
   "file_extension": ".py",
   "mimetype": "text/x-python",
   "name": "python",
   "nbconvert_exporter": "python",
   "pygments_lexer": "ipython3",
   "version": "3.10.16"
  }
 },
 "nbformat": 4,
 "nbformat_minor": 2
}
